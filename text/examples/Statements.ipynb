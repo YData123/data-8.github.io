{
 "cells": [
  {
   "cell_type": "code",
   "execution_count": 59,
   "metadata": {
    "collapsed": true
   },
   "outputs": [],
   "source": [
    "# HIDDEN\n",
    "\n",
    "from datascience import *\n",
    "%matplotlib inline\n",
    "import matplotlib.pyplot as plots\n",
    "plots.style.use('fivethirtyeight')\n",
    "import numpy as np"
   ]
  },
  {
   "cell_type": "markdown",
   "metadata": {},
   "source": [
    "# Statements\n",
    "In this note, we'll go over the structure of Python code in a bit more detail than we have before.  When you've absorbed this material, you should be able to read Python code and decompose it into simple, understandable parts.\n",
    "\n",
    "Decomposing Python into small parts is kind of like diagramming an English sentence.  While our brains are perfectly capable of generating and understanding English without explicitly identifying things like subjects and predicates, Python interprets code very literally according to its rules (its *syntax*).  So if you want to understand Python code, it's more important to have a precise model of Python's rules in your head.  On the flip side, Python's rules are much simpler than those of English (see, for example, [this amusingly complicated English sentence](https://en.wikipedia.org/wiki/Buffalo_buffalo_Buffalo_buffalo_buffalo_buffalo_Buffalo_buffalo)) -- they just seem complicated because we're less familiar with them.\n",
    "\n",
    "Note: Everything in this note is also available, with even more pedantic precision, at the [Python language reference](https://docs.python.org/3/reference/index.html).  This note is focused on the material in chapters 6, 7, and 8 of the reference.  We will omit some details and fudge some truths in the interest of pedagogy."
   ]
  },
  {
   "cell_type": "markdown",
   "metadata": {},
   "source": [
    "## 1. Code is a sequence of statements\n",
    "Below is a cell containing various Python code that might look familiar by now."
   ]
  },
  {
   "cell_type": "code",
   "execution_count": 40,
   "metadata": {
    "collapsed": false
   },
   "outputs": [
    {
     "data": {
      "text/html": [
       "<table border=\"1\" class=\"dataframe\">\n",
       "    <thead>\n",
       "        <tr>\n",
       "            <th>Nonsense</th>\n",
       "        </tr>\n",
       "    </thead>\n",
       "    <tbody>\n",
       "        <tr>\n",
       "            <td>bar     </td>\n",
       "        </tr>\n",
       "    </tbody>\n",
       "        <tr>\n",
       "            <td>baz     </td>\n",
       "        </tr>\n",
       "    </tbody>\n",
       "        <tr>\n",
       "            <td>foo     </td>\n",
       "        </tr>\n",
       "    </tbody>\n",
       "</table>"
      ],
      "text/plain": [
       "<Table(1 rows): | Nonsense |>"
      ]
     },
     "execution_count": 40,
     "metadata": {},
     "output_type": "execute_result"
    }
   ],
   "source": [
    "3                                               # Line 1.0\n",
    "z = 3                                           # Line 1.1\n",
    "4+3                                             # Line 1.2\n",
    "y = 4+3                                         # Line 1.3\n",
    "(2+3)+z                                         # Line 1.4\n",
    "\"foo\"+\"bar\"                                     # Line 1.5\n",
    "[1,2,3]                                         # Line 1.6\n",
    "x = [1,2,3]                                     # Line 1.7\n",
    "sum(x)                                          # Line 1.8\n",
    "x[2]                                            # Line 1.9\n",
    "x[2] = 4                                        # Line 1.10\n",
    "t = Table()                                     # Line 1.11\n",
    "t['Things'] = np.array([\"foo\", \"bar\", \"baz\"])   # Line 1.12\n",
    "t.sort('Things')                                # Line 1.13\n",
    "u = t.sort('Things')                            # Line 1.14\n",
    "u.relabel('Things', 'Nonsense')                 # Line 1.15\n",
    "u                                               # Line 1.16"
   ]
  },
  {
   "cell_type": "markdown",
   "metadata": {},
   "source": [
    "(The `# Line X` comments are just there for labeling; don't consider them part of the lines.)  Each line in the cell is a *statement*.  A statement is a (somewhat) self-contained piece of code.  Python executes statements in the order in which they appear.  There are many kinds of statements, and to execute a statement, Python first has to figure out what kind of statement it is."
   ]
  },
  {
   "cell_type": "markdown",
   "metadata": {},
   "source": [
    "## 2. Expressions\n",
    "The most basic kind of statement is the *expression*.\n",
    "\n",
    "Line 0 above is just an expression: `3`.  Like many (but not all) expressions, it has a value, the integer 3.  Like some (but not all) expressions, computing its value causes nothing to \"happen\" to the world.  (We say it has no *side effects*.)  When Python executes line 0, it computes that value.  Since nothing is done with it, it just gets discarded.  The same is true of lines 2, 4, 5, 6, 8, 9, 13, and 16 -- those are expression statements that cause values to be computed, but the computation has no side effects, and the value of the full expression is eventually discarded.  Line 14 is an expression that does have side effects -- it causes the `'Things'` column in the table named `t` to be renamed to `'Nonsense'`.  The other lines are statements but not expressions, but we will see that, like many statements, they *contain* expressions.\n",
    "\n",
    "Expressions are themselves usually made up of several smaller expressions joined together by some rules; we call these *compound expressions*, and we sometimes call the component expressions *subexpressions*.  Line 2, for example, is a compound expression made up of the subexpressions `4` and `3` joined by `+`.  Python knows what a `+` between two expressions means, and it puts them together so that the value of `4+3` is the value of `4` plus the value of `3`, or 7.\n",
    "\n",
    "Line 4 is another compound expression.  We can think of it as the subexpressions `(2+3)` and `z`, again joined by `+`.  But `(2+3)` is itself a compound expression, made up of `2` and `3` joined by `+`.  Python first computes the value of `(2+3)`, which is 5, and then computes the value of `z`, which is 3 (`z` having been assigned previously), and then adds 5 and 3 to get 8.  `(2+3)*(4*((5*6)+7))` is also a valid expression.  It contains 10 subexpressions (not including itself):\n",
    "* `2`\n",
    "* `3`\n",
    "* `(2+3)`\n",
    "* `4`\n",
    "* `5`\n",
    "* `6`\n",
    "* `(5*6)`\n",
    "* `7`\n",
    "* `((5*6)+7)`\n",
    "* `(4*((5*6)+7))`\n",
    "\n",
    "Compound expressions can be arbitrarily complicated compositions of expressions."
   ]
  },
  {
   "cell_type": "markdown",
   "metadata": {},
   "source": [
    "**Question.**  How many subexpressions are contained in the expression `((1+2)+(3+4))+((5+6)+(7+8))`?"
   ]
  },
  {
   "cell_type": "markdown",
   "metadata": {},
   "source": [
    "Line 5 (`\"foo\"+\"bar\"`) is a compound expression adding two strings, with `\"foo\"` and `\"bar\"` as subexpressions.  This is okay, since the `+` operator knows how to handle two strings.  It produces the string \"foobar\" as its value.\n",
    "\n",
    "When the following cell is executed, however, there is an error.  (Run the cell to confirm that.)"
   ]
  },
  {
   "cell_type": "code",
   "execution_count": null,
   "metadata": {
    "collapsed": true
   },
   "outputs": [],
   "source": [
    "\"foo\"+5"
   ]
  },
  {
   "cell_type": "markdown",
   "metadata": {},
   "source": [
    "The error is \"TypeError: Can't convert 'int' object to str implicitly\".  (The text above that describes where the error happened.)  Python evaluates `\"foo\"` and `5` just fine, but when the `+` operator tries to apply itself \"foo\" and 5, it becomes unhappy.  The error refers to the fact that the `+` operator tries to convert its arguments to something it can add.  For example, adding an integer and a float, like `3+4.5`, works because `+` converts the integer `3` to a float.  But `+` can't convert a number to text.\n",
    "\n",
    "The important thing to realize about that cell, for our purposes, is exactly where the error happens.  In the next cell, for example, some work is done before an error happens:"
   ]
  },
  {
   "cell_type": "code",
   "execution_count": null,
   "metadata": {
    "collapsed": true
   },
   "outputs": [],
   "source": [
    "(\"foo\"+\"bar\")+5"
   ]
  },
  {
   "cell_type": "markdown",
   "metadata": {},
   "source": [
    "Python actually evaluates the subexpression `(\"foo\"+\"bar\")` successfully, producing the string \"foobar\", before again failing to add \"foobar\" and 5.  The error occurs only when trying to add a string and a number, and not before."
   ]
  },
  {
   "cell_type": "markdown",
   "metadata": {},
   "source": [
    "### Lists\n",
    "Line 6 above, `[1,2,3]`, is another kind of compound expression, the *list literal*.  Python knows that when square brackets (`[]`) appear by themselves with a comma-separated list of expressions inside them, we are asking for a list consisting of those expressions' values.\n",
    "\n",
    "### Calls\n",
    "Line 8, `sum(x)`, is also a compound expression, a *function call*.  Python evaluates the subexpression `sum`, producing a *function* that adds members of lists, and the subexpression `x`, which was previously set to a list of integers.  Then the parentheses `()` direct Python to *call* the function named `sum` on the value of `x`, producing the value 6.  Note that it's possible to write things like `5(3)` or `nonexistent_function(0)`.  Python will just complain that `5` is not a function (specifically, that it is not \"callable\") or that `nonexistent_function` hasn't been defined, respectively.\n",
    "\n",
    "The following line is similar to line 8, but the subexpression inside the parentheses, `x + [4]`, is itself a compound expression:"
   ]
  },
  {
   "cell_type": "code",
   "execution_count": 42,
   "metadata": {
    "collapsed": false
   },
   "outputs": [
    {
     "data": {
      "text/plain": [
       "11"
      ]
     },
     "execution_count": 42,
     "metadata": {},
     "output_type": "execute_result"
    }
   ],
   "source": [
    "sum(x + [4])"
   ]
  },
  {
   "cell_type": "markdown",
   "metadata": {},
   "source": [
    "We haven't seen how to define new functions yet, but here is one example to see how the expression before the `(` is just an expression (whose value must be a function):"
   ]
  },
  {
   "cell_type": "code",
   "execution_count": 41,
   "metadata": {
    "collapsed": false
   },
   "outputs": [
    {
     "data": {
      "text/plain": [
       "7"
      ]
     },
     "execution_count": 41,
     "metadata": {},
     "output_type": "execute_result"
    }
   ],
   "source": [
    "my_name_for_sum = sum\n",
    "my_name_for_sum(x)"
   ]
  },
  {
   "cell_type": "markdown",
   "metadata": {},
   "source": [
    "### Indexing\n",
    "Line 9, `x[2]`, is yet another compound expression.  Python evaluates the subexpression `x`, producing a list, and the subexpression `2`.  The square brackets, appearing immediately after an expression and with another expression inside them, tell Python to *index* into the value of the first expression using the value of the second expression.  This produces the value 3.  Like parentheses, the things on either side of the square brackets can be compound expressions:"
   ]
  },
  {
   "cell_type": "code",
   "execution_count": 11,
   "metadata": {
    "collapsed": false
   },
   "outputs": [
    {
     "data": {
      "text/plain": [
       "2"
      ]
     },
     "execution_count": 11,
     "metadata": {},
     "output_type": "execute_result"
    }
   ],
   "source": [
    "x[2-1]"
   ]
  },
  {
   "cell_type": "code",
   "execution_count": 43,
   "metadata": {
    "collapsed": false
   },
   "outputs": [
    {
     "data": {
      "text/plain": [
       "4"
      ]
     },
     "execution_count": 43,
     "metadata": {},
     "output_type": "execute_result"
    }
   ],
   "source": [
    "(x + [4])[2+1]"
   ]
  },
  {
   "cell_type": "markdown",
   "metadata": {},
   "source": [
    "Finally, note that different kinds of values support different kinds of indexing.  A Table, for example, supports indexing by strings, producing a column:"
   ]
  },
  {
   "cell_type": "code",
   "execution_count": 45,
   "metadata": {
    "collapsed": false
   },
   "outputs": [
    {
     "data": {
      "text/plain": [
       "array(['foo', 'bar', 'baz'], \n",
       "      dtype='<U3')"
      ]
     },
     "execution_count": 45,
     "metadata": {},
     "output_type": "execute_result"
    }
   ],
   "source": [
    "t['Things']"
   ]
  },
  {
   "cell_type": "markdown",
   "metadata": {},
   "source": [
    "**Question.** To put together list indexing and function calls, try to figure out what the following code is doing.  (Note that an expression like `sum` has a value, like any other name expression, and that value is a function.  We can put function values into lists, just like other values.)"
   ]
  },
  {
   "cell_type": "code",
   "execution_count": 44,
   "metadata": {
    "collapsed": false
   },
   "outputs": [
    {
     "data": {
      "text/plain": [
       "7"
      ]
     },
     "execution_count": 44,
     "metadata": {},
     "output_type": "execute_result"
    }
   ],
   "source": [
    "some_functions_on_lists = [sum, len]\n",
    "(some_functions_on_lists[0])(x)"
   ]
  },
  {
   "cell_type": "markdown",
   "metadata": {},
   "source": [
    "### Dots and attributes\n",
    "Objects (just another name for a value, like 1, \"four score\", or a Table) often have things called properties, attributes, fields, or (in the case when the things are functions) methods.  Let's call them attributes.  Though in this class we won't see how to create new kinds of objects, we will use attributes all the time.\n",
    "\n",
    "We access attributes using a `.`.  For example:"
   ]
  },
  {
   "cell_type": "code",
   "execution_count": 88,
   "metadata": {
    "collapsed": false
   },
   "outputs": [
    {
     "data": {
      "text/plain": [
       "Rows(<Table(1 rows): | Things |>)"
      ]
     },
     "execution_count": 88,
     "metadata": {},
     "output_type": "execute_result"
    }
   ],
   "source": [
    "t.rows"
   ]
  },
  {
   "cell_type": "markdown",
   "metadata": {},
   "source": [
    "Generically, the thing on the left of the `.` must be an expression whose value is an object with the attribute we want.  It can be an arbitrarily complicated compound expression, like `np.array([[1,2,3][2]])`. The thing on the right of the dot is the name of the attribute.  It is *not* an expression.\n",
    "\n",
    "As we said, sometimes an attribute is a function, in which case we sometimes call it a *method* instead.  The syntax is the same as other attribute accesses:"
   ]
  },
  {
   "cell_type": "code",
   "execution_count": null,
   "metadata": {
    "collapsed": true
   },
   "outputs": [],
   "source": [
    "t.sort"
   ]
  },
  {
   "cell_type": "code",
   "execution_count": 91,
   "metadata": {
    "collapsed": false
   },
   "outputs": [
    {
     "data": {
      "text/html": [
       "<table border=\"1\" class=\"dataframe\">\n",
       "    <thead>\n",
       "        <tr>\n",
       "            <th>Things</th>\n",
       "        </tr>\n",
       "    </thead>\n",
       "    <tbody>\n",
       "        <tr>\n",
       "            <td>bar   </td>\n",
       "        </tr>\n",
       "    </tbody>\n",
       "        <tr>\n",
       "            <td>baz   </td>\n",
       "        </tr>\n",
       "    </tbody>\n",
       "        <tr>\n",
       "            <td>foo   </td>\n",
       "        </tr>\n",
       "    </tbody>\n",
       "</table>"
      ],
      "text/plain": [
       "<Table(1 rows): | Things |>"
      ]
     },
     "execution_count": 91,
     "metadata": {},
     "output_type": "execute_result"
    }
   ],
   "source": [
    "t.sort('Things')"
   ]
  },
  {
   "cell_type": "markdown",
   "metadata": {},
   "source": [
    "The only difference between a method and a normal function is that the object itself (`t` in this case) is automatically passed as the first argument to the method.  So the `sort` function technically has two arguments -- the first is the table that `sort` is being called on, and the second is the column name.  This is how `sort` knows which table to sort!  Normally this is a really technical detail that you don't need to worry about, but it can come up when you accidentally pass the wrong number of arguments to a method:"
   ]
  },
  {
   "cell_type": "code",
   "execution_count": 94,
   "metadata": {
    "collapsed": false
   },
   "outputs": [
    {
     "ename": "TypeError",
     "evalue": "sort() takes from 2 to 4 positional arguments but 6 were given",
     "output_type": "error",
     "traceback": [
      "\u001b[0;31m---------------------------------------------------------------------------\u001b[0m",
      "\u001b[0;31mTypeError\u001b[0m                                 Traceback (most recent call last)",
      "\u001b[0;32m<ipython-input-94-5ac768fdc488>\u001b[0m in \u001b[0;36m<module>\u001b[0;34m()\u001b[0m\n\u001b[0;32m----> 1\u001b[0;31m \u001b[0mt\u001b[0m\u001b[0;34m.\u001b[0m\u001b[0msort\u001b[0m\u001b[0;34m(\u001b[0m\u001b[0;34m'This'\u001b[0m\u001b[0;34m,\u001b[0m \u001b[0;34m'is'\u001b[0m\u001b[0;34m,\u001b[0m \u001b[0;34m'too'\u001b[0m\u001b[0;34m,\u001b[0m \u001b[0;34m'many'\u001b[0m\u001b[0;34m,\u001b[0m \u001b[0;34m'arguments'\u001b[0m\u001b[0;34m)\u001b[0m\u001b[0;34m\u001b[0m\u001b[0m\n\u001b[0m",
      "\u001b[0;31mTypeError\u001b[0m: sort() takes from 2 to 4 positional arguments but 6 were given"
     ]
    }
   ],
   "source": [
    "t.sort('This', 'is', 'too', 'many', 'arguments') # Error!"
   ]
  },
  {
   "cell_type": "markdown",
   "metadata": {},
   "source": [
    "The error complains that we gave 6 arguments to `sort`, but it looks like we only passed 5.  The extra first argument is the table `t`."
   ]
  },
  {
   "cell_type": "markdown",
   "metadata": {
    "collapsed": false
   },
   "source": [
    "### Is that all the expressions?\n",
    "No.  We might see more as the class goes on.  But these are most of the important ones, and you've seen most of the difficult ideas."
   ]
  },
  {
   "cell_type": "markdown",
   "metadata": {},
   "source": [
    "## 3. Assignments\n"
   ]
  },
  {
   "cell_type": "markdown",
   "metadata": {},
   "source": [
    "If we had only expressions, it would be difficult to put together many steps in our code.  For example, which piece of code is more legible?"
   ]
  },
  {
   "cell_type": "code",
   "execution_count": 26,
   "metadata": {
    "collapsed": false
   },
   "outputs": [
    {
     "data": {
      "text/plain": [
       "'Alice'"
      ]
     },
     "execution_count": 26,
     "metadata": {},
     "output_type": "execute_result"
    }
   ],
   "source": [
    "Table([['Alice', 'Bob', 'Alice', 'Alice', 'Connie'], [119.99, 29.99, 10.00, 350.00, 5.29]], ['Customer', 'Bill']).group('Customer', np.sum).sort('Bill sum', descending=True)['Customer'][0]"
   ]
  },
  {
   "cell_type": "code",
   "execution_count": 25,
   "metadata": {
    "collapsed": false
   },
   "outputs": [
    {
     "data": {
      "text/plain": [
       "'Alice'"
      ]
     },
     "execution_count": 25,
     "metadata": {},
     "output_type": "execute_result"
    }
   ],
   "source": [
    "transactions = Table()                                                                                  # Line 3.0\n",
    "transactions['Customer'] = ['Alice', 'Bob', 'Alice', 'Alice', 'Connie']                                 # Line 3.1\n",
    "transactions['Bill'] = [119.99, 29.99, 10.00, 350.00, 5.29]                                             # Line 3.2\n",
    "total_bill_per_customer = transactions.group('Customer', np.sum)                                        # Line 3.3\n",
    "customers_sorted_by_total_bill = total_bill_per_customer.sort('Bill sum', descending=True)['Customer']  # Line 3.4\n",
    "top_customer = customers_sorted_by_total_bill[0]                                                        # Line 3.5\n",
    "top_customer                                                                                            # Line 3.6"
   ]
  },
  {
   "cell_type": "markdown",
   "metadata": {},
   "source": [
    "Many programs do hundreds (or millions) of different things, and it would be cumbersome to do this only using expressions.  In this example, we are doing only one thing, using several steps.  The first cell is concise, but it's very hard to read.  In the second cell, we use *assignment statements* to break down the steps into things that are (hopefully) understandable.\n",
    "\n",
    "An assignment statement is executed like other statements, but it always causes an effect on the world (recall that we called these *side effects*).  That is subsequent statements will see the changes made by the assignment."
   ]
  },
  {
   "cell_type": "markdown",
   "metadata": {},
   "source": [
    "### Name assignments\n",
    "An assignment statement generally has two expressions separated by an equals sign.  The expression on the right can be anything, but the expression on the left must be an \"assignable thing\".  The simplest case is a name that has not been assigned to anything yet, like `total_bill_per_customer` on line 3 above.  Before line 3 is executed, it would be an error to refer to `total_bill_per_customer`, but after line 3, that name can be used to refer to the table created by `transactions.group('Customer', np.sum)`.\n",
    "\n",
    "Assignment statements can also reassign existing names to something else:"
   ]
  },
  {
   "cell_type": "code",
   "execution_count": 30,
   "metadata": {
    "collapsed": false
   },
   "outputs": [
    {
     "data": {
      "text/plain": [
       "6"
      ]
     },
     "execution_count": 30,
     "metadata": {},
     "output_type": "execute_result"
    }
   ],
   "source": [
    "number = 3\n",
    "number = 4\n",
    "number = number + 2\n",
    "number"
   ]
  },
  {
   "cell_type": "markdown",
   "metadata": {},
   "source": [
    "As a matter of code stype, it is best to avoid this where possible, because it can make your code more confusing.  (If everything is assigned only once, it's trivial to see what its value is when you read code.  Otherwise you might need to hunt down all the assignments.)  But occasionally it is useful, and sometimes it is necessary.  We'll see examples of the latter when we cover iteration."
   ]
  },
  {
   "cell_type": "markdown",
   "metadata": {},
   "source": [
    "### Indexing assignments\n",
    "Lines 1 and 2 above are assignments to parts of an *indexable* thing.  In this case, they add new columns to the `transactions` Table associated with the strings \"Customer\" and \"Bill\", respectively.  Generically, an indexing assignment looks like:\n",
    "\n",
    "    <expression with indexable value>[<expression>] = <expression>\n",
    "\n",
    "The same pattern happens when we assign elements of a list or array:"
   ]
  },
  {
   "cell_type": "code",
   "execution_count": 32,
   "metadata": {
    "collapsed": true
   },
   "outputs": [],
   "source": [
    "my_list = [4, 5, \"foo\"]\n",
    "my_list[0] = \"bar\""
   ]
  },
  {
   "cell_type": "markdown",
   "metadata": {},
   "source": [
    "Indexable things may have different behavior when you set something in them.  For example, Tables are okay with adding new columns (as we saw in lines 1 and 2) or with replacing existing columns with something else.  If we want to change the customer names (say because we made a mistake the first time), we could do that by changing the whole \"Customer\" column:"
   ]
  },
  {
   "cell_type": "code",
   "execution_count": null,
   "metadata": {
    "collapsed": true
   },
   "outputs": [],
   "source": [
    "transactions['Customer'] = ['Alice', 'Bob', 'Alice', 'Alice', 'Dora'] # "
   ]
  },
  {
   "cell_type": "markdown",
   "metadata": {},
   "source": [
    "Lists, however, don't let us add new elements.  We can only assign new things to the slots a list had when it was created:"
   ]
  },
  {
   "cell_type": "code",
   "execution_count": 34,
   "metadata": {
    "collapsed": true
   },
   "outputs": [],
   "source": [
    "my_list[2] = \"baz\"    # Okay."
   ]
  },
  {
   "cell_type": "code",
   "execution_count": 53,
   "metadata": {
    "collapsed": false
   },
   "outputs": [
    {
     "ename": "IndexError",
     "evalue": "list assignment index out of range",
     "output_type": "error",
     "traceback": [
      "\u001b[0;31m---------------------------------------------------------------------------\u001b[0m",
      "\u001b[0;31mIndexError\u001b[0m                                Traceback (most recent call last)",
      "\u001b[0;32m<ipython-input-53-1b515bfa27b1>\u001b[0m in \u001b[0;36m<module>\u001b[0;34m()\u001b[0m\n\u001b[0;32m----> 1\u001b[0;31m \u001b[0mmy_list\u001b[0m\u001b[0;34m[\u001b[0m\u001b[0;36m3\u001b[0m\u001b[0;34m]\u001b[0m \u001b[0;34m=\u001b[0m \u001b[0;34m\"garply\"\u001b[0m \u001b[0;31m# Error.\u001b[0m\u001b[0;34m\u001b[0m\u001b[0m\n\u001b[0m",
      "\u001b[0;31mIndexError\u001b[0m: list assignment index out of range"
     ]
    }
   ],
   "source": [
    "my_list[3] = \"garply\" # Error."
   ]
  },
  {
   "cell_type": "markdown",
   "metadata": {},
   "source": [
    "Note that it is possible to make a list longer using extend(), or to make a new longer list with `+`.  You just can't do it with index assignment.\n",
    "\n",
    "Why do lists have this restriction?  Lists are supposed to contain contiguous ranges of things; they can't have \"holes\" that aren't indexable.  If you could extend a list by assigning to it at whatever indices you wanted, you could assign elements, say, 0, 1, and 3, leaving 2 unassigned.  Then what should `len` return for that list -- 3 or 4?  And what should happen when you print it?  It's not clear.  To make sure you don't have to worry about this when you use lists, Python doesn't let you do it."
   ]
  },
  {
   "cell_type": "markdown",
   "metadata": {},
   "source": [
    "## Import statements\n",
    "A simple, standalone kind of statement is the *import statement*, as in `import numpy as np`.  It has the side effect of making the `numpy` module available, giving it the name `np`.  Notice that the import statement has its own special rules, and it doesn't include other expressions as subexpressions anywhere."
   ]
  },
  {
   "cell_type": "markdown",
   "metadata": {},
   "source": [
    "## Function definitions\n",
    "Another important statement is the *function definition*:"
   ]
  },
  {
   "cell_type": "code",
   "execution_count": null,
   "metadata": {
    "collapsed": true
   },
   "outputs": [],
   "source": [
    "def square(x):\n",
    "    return x*x"
   ]
  },
  {
   "cell_type": "code",
   "execution_count": 65,
   "metadata": {
    "collapsed": false
   },
   "outputs": [
    {
     "data": {
      "text/plain": [
       "30.25"
      ]
     },
     "execution_count": 65,
     "metadata": {},
     "output_type": "execute_result"
    }
   ],
   "source": [
    "square(5.5)"
   ]
  },
  {
   "cell_type": "markdown",
   "metadata": {},
   "source": [
    "The rules of a programming language are rigid. In Python, the `*` symbol cannot appear twice in a row. The computer will not try to interpret an expression that differs from its prescribed expression structures. Instead, it will show a `SyntaxError` error. The *Syntax* of a language is its set of grammar rules, and a `SyntaxError` indicates that some rule has been violated."
   ]
  },
  {
   "cell_type": "markdown",
   "metadata": {},
   "source": [
    "The function definition is our first example of a statement that takes up multiple lines.  In fact, a function typically includes multiple *substatements*; its general form is:\n",
    "\n",
    "    def <function name>(<argument list>):\n",
    "        <statement 0>\n",
    "        <statement 1>\n",
    "        ...\n",
    "\n",
    "When a function is executed (using the function call syntax we saw above), its statements are executed sequentially, just like an ordinary sequence of statements in a cell.  Before the statements are executed, each name in the argument list is set to the corresponding value in the arguments passed to the function.  For example, when we call `square(5.5)` above, Python starts executing the statements in the `square` function, but first sets `x` to 5.5.\n",
    "\n",
    "It's important to know, though, that the value of `x` is set *only* for the statements inside the function.  Outside the function call, argument names are not modified or visible.  For example:"
   ]
  },
  {
   "cell_type": "code",
   "execution_count": null,
   "metadata": {
    "collapsed": true
   },
   "outputs": [],
   "source": [
    "x = 5\n",
    "def cube(x):\n",
    "    return x*x*x\n",
    "cube(3) # 27\n",
    "x"
   ]
  },
  {
   "cell_type": "code",
   "execution_count": 87,
   "metadata": {
    "collapsed": false
   },
   "outputs": [
    {
     "ename": "NameError",
     "evalue": "name 'does_not_appear_elsewhere' is not defined",
     "output_type": "error",
     "traceback": [
      "\u001b[0;31m---------------------------------------------------------------------------\u001b[0m",
      "\u001b[0;31mNameError\u001b[0m                                 Traceback (most recent call last)",
      "\u001b[0;32m<ipython-input-87-2ef1f0563d30>\u001b[0m in \u001b[0;36m<module>\u001b[0;34m()\u001b[0m\n\u001b[1;32m      2\u001b[0m     \u001b[0;32mreturn\u001b[0m \u001b[0mdoes_not_appear_elsewhere\u001b[0m\u001b[0;34m**\u001b[0m\u001b[0;34m(\u001b[0m\u001b[0;36m1\u001b[0m\u001b[0;34m/\u001b[0m\u001b[0;36m2\u001b[0m\u001b[0;34m)\u001b[0m\u001b[0;34m\u001b[0m\u001b[0m\n\u001b[1;32m      3\u001b[0m \u001b[0msquare_root\u001b[0m\u001b[0;34m(\u001b[0m\u001b[0;36m4\u001b[0m\u001b[0;34m)\u001b[0m\u001b[0;34m\u001b[0m\u001b[0m\n\u001b[0;32m----> 4\u001b[0;31m \u001b[0mdoes_not_appear_elsewhere\u001b[0m\u001b[0;34m\u001b[0m\u001b[0m\n\u001b[0m",
      "\u001b[0;31mNameError\u001b[0m: name 'does_not_appear_elsewhere' is not defined"
     ]
    }
   ],
   "source": [
    "def square_root(does_not_appear_elsewhere):\n",
    "    return does_not_appear_elsewhere**(1/2)\n",
    "square_root(4)\n",
    "does_not_appear_elsewhere # Causes an error.  does_not_appear_elsewhere was only defined inside the function while it was being called."
   ]
  },
  {
   "cell_type": "markdown",
   "metadata": {},
   "source": [
    "Functions are extremely useful for packaging small pieces of functionality into easily-understandable pieces.  Computer code is so powerful that organizing and maintaining it is often much more difficult than just getting the computer to do what we want.  If you can wrap a complicated procedure into a single function, then you can focus once on getting that function written correctly, and then move on to something else, never worrying about its correctness again.  In most moderate- or large-scale software, all code is organized this way -- that is, *all code* is just a bunch of (relatively short) functions."
   ]
  },
  {
   "cell_type": "markdown",
   "metadata": {},
   "source": [
    "### Functions as values\n",
    "A function definition like\n",
    "\n",
    "    def my_func(x):\n",
    "        return 2*x\n",
    "\n",
    "is really just producing a *function value* and assigning the name `my_func` to that value.  In this case, the function value is the function that multiplies its single argument by 2.  You should imagine `def` as doing something similar to the following (non-functional) code:\n",
    "    \n",
    "    my_func = define_a_function(x):\n",
    "        return 2*x\n",
    "\n",
    "So names assigned to functions are really just ordinary names, and function values are just like other values, except that of course their behavior is different (for example, they can be called using `()`, and they can't be added together like strings or numbers).  For example, it is possible redefine a name that was previously defined as a function (though this is so confusing that it is usually a bad idea):"
   ]
  },
  {
   "cell_type": "code",
   "execution_count": 83,
   "metadata": {
    "collapsed": false
   },
   "outputs": [
    {
     "data": {
      "text/plain": [
       "3"
      ]
     },
     "execution_count": 83,
     "metadata": {},
     "output_type": "execute_result"
    }
   ],
   "source": [
    "def my_func(x):\n",
    "    return 2*x\n",
    "\n",
    "eight = my_func(4)\n",
    "my_func = 3 # Technically possible, but inadvisable!\n",
    "my_func"
   ]
  },
  {
   "cell_type": "markdown",
   "metadata": {},
   "source": [
    "We can also put function values into a list, as we saw earlier:"
   ]
  },
  {
   "cell_type": "code",
   "execution_count": 71,
   "metadata": {
    "collapsed": false
   },
   "outputs": [
    {
     "data": {
      "text/plain": [
       "0"
      ]
     },
     "execution_count": 71,
     "metadata": {},
     "output_type": "execute_result"
    }
   ],
   "source": [
    "def my_func_0(x):\n",
    "    return 0*x\n",
    "def my_func_1(x):\n",
    "    return 1*x\n",
    "funcs = [my_func_0, my_func_1]\n",
    "zero = funcs[0](3)\n",
    "zero"
   ]
  },
  {
   "cell_type": "markdown",
   "metadata": {},
   "source": [
    "Though Python prints function values in a slightly cryptic way, you can print them if you want:"
   ]
  },
  {
   "cell_type": "code",
   "execution_count": 72,
   "metadata": {
    "collapsed": false
   },
   "outputs": [
    {
     "data": {
      "text/plain": [
       "[<function __main__.my_func_0>, <function __main__.my_func_1>]"
      ]
     },
     "execution_count": 72,
     "metadata": {},
     "output_type": "execute_result"
    }
   ],
   "source": [
    "funcs"
   ]
  },
  {
   "cell_type": "markdown",
   "metadata": {},
   "source": [
    "## Return statements\n",
    "Inside a function definition, we very often see yet another kind of statement: the *return statement*.  This has the form `return <expression>`.  Any of the expressions we saw above can appear after the `return`.  This is the value produced by calls to the function.  For example, the value of `square(5)` is 25, since `square` will return `5*5` when it is called with the argument `5`.\n",
    "\n",
    "`return` stops execution of the function; subsequent statements are not reached.  For example:"
   ]
  },
  {
   "cell_type": "code",
   "execution_count": 51,
   "metadata": {
    "collapsed": false
   },
   "outputs": [
    {
     "data": {
      "text/plain": [
       "25"
      ]
     },
     "execution_count": 51,
     "metadata": {},
     "output_type": "execute_result"
    }
   ],
   "source": [
    "def weird_but_technically_correct_square(x):\n",
    "    return x*x\n",
    "    return (x*x)+1\n",
    "\n",
    "weird_but_technically_correct_square(5)"
   ]
  },
  {
   "cell_type": "markdown",
   "metadata": {},
   "source": [
    "If a return statement is never reached, calling the function produces no value.  The following code is wrong, for example:"
   ]
  },
  {
   "cell_type": "code",
   "execution_count": 61,
   "metadata": {
    "collapsed": false
   },
   "outputs": [
    {
     "data": {
      "text/plain": [
       "'None'"
      ]
     },
     "execution_count": 61,
     "metadata": {},
     "output_type": "execute_result"
    }
   ],
   "source": [
    "def wrong_circle_area(r):\n",
    "    math.pi*(r**2)\n",
    "\n",
    "some_name = wrong_circle_area(4)\n",
    "some_name"
   ]
  },
  {
   "cell_type": "markdown",
   "metadata": {},
   "source": [
    "Unfortunately, this is a mistake that Python will not complain about; it will just silently let `some_name` have no value.  (Technically it is given a special value called None.  If a statement with value None is the last statement in a cell, Jupyter doesn't print anything.  But you can see the value of `some_name` if you write, for example, `str(some_name)`.)\n",
    "\n",
    "To be clear, we just fix this by `return`ing whatever we want the function to return:"
   ]
  },
  {
   "cell_type": "code",
   "execution_count": 64,
   "metadata": {
    "collapsed": false
   },
   "outputs": [
    {
     "data": {
      "text/plain": [
       "50.26548245743669"
      ]
     },
     "execution_count": 64,
     "metadata": {},
     "output_type": "execute_result"
    }
   ],
   "source": [
    "def correct_circle_area(r):\n",
    "    return math.pi*(r**2)\n",
    "\n",
    "circle_radius_four_area = correct_circle_area(4)\n",
    "circle_radius_four_area"
   ]
  },
  {
   "cell_type": "markdown",
   "metadata": {},
   "source": [
    "## Conditionals\n",
    "Conditionals are another important multi-line statement:"
   ]
  },
  {
   "cell_type": "code",
   "execution_count": 47,
   "metadata": {
    "collapsed": true
   },
   "outputs": [],
   "source": [
    "x = [1,2,3]\n",
    "if len(x) > 4:\n",
    "    message = \"x is a long list!\"\n",
    "else:\n",
    "    message = \"x is a short list!\""
   ]
  },
  {
   "cell_type": "code",
   "execution_count": 48,
   "metadata": {
    "collapsed": false
   },
   "outputs": [
    {
     "data": {
      "text/plain": [
       "'x is a short list!'"
      ]
     },
     "execution_count": 48,
     "metadata": {},
     "output_type": "execute_result"
    }
   ],
   "source": [
    "message"
   ]
  },
  {
   "cell_type": "markdown",
   "metadata": {},
   "source": [
    "The general form of a conditional is:\n",
    "    \n",
    "    if <boolean-valued expression 0>:\n",
    "        <statement 0.0>\n",
    "        ...\n",
    "    elif <boolean-valued expression 1>:\n",
    "        <statement 1.0>\n",
    "        ...\n",
    "    elif <boolean-valued expression 2>:\n",
    "        <statement 2.0>\n",
    "        ...\n",
    "    ...\n",
    "    else:\n",
    "        <statement n.0>\n",
    "        ...\n",
    "\n",
    "If there is an `else` clause, then exactly one of the statement groups will be executed; otherwise, it's possible that none of them will happen (if none of the expressions next to `if` or `elif` are True).\n",
    "\n",
    "Conditionals are pretty simple, but like functions, they are very important for writing code that does interesting things.\n",
    "\n",
    "Something to watch out for is that Python will implicitly convert non-boolean values to boolean values, sometimes using surprising rules.  Typically, the convention is that something that is \"zero-like\" or \"empty\" is False, while other things are True.  It's best not to rely on this behavior, though; use an explicit comparison that produces a boolean value.  See what happens in the following examples:"
   ]
  },
  {
   "cell_type": "code",
   "execution_count": 81,
   "metadata": {
    "collapsed": false
   },
   "outputs": [
    {
     "data": {
      "text/plain": [
       "False"
      ]
     },
     "execution_count": 81,
     "metadata": {},
     "output_type": "execute_result"
    }
   ],
   "source": [
    "if 0:\n",
    "    x = True\n",
    "else:\n",
    "    x = False\n",
    "x"
   ]
  },
  {
   "cell_type": "code",
   "execution_count": 82,
   "metadata": {
    "collapsed": false
   },
   "outputs": [
    {
     "data": {
      "text/plain": [
       "True"
      ]
     },
     "execution_count": 82,
     "metadata": {},
     "output_type": "execute_result"
    }
   ],
   "source": [
    "if 1:\n",
    "    x = True\n",
    "else:\n",
    "    x = False\n",
    "x"
   ]
  },
  {
   "cell_type": "code",
   "execution_count": 80,
   "metadata": {
    "collapsed": false
   },
   "outputs": [
    {
     "data": {
      "text/plain": [
       "True"
      ]
     },
     "execution_count": 80,
     "metadata": {},
     "output_type": "execute_result"
    }
   ],
   "source": [
    "if \"some string\":\n",
    "    x = True\n",
    "else:\n",
    "    x = False\n",
    "x"
   ]
  },
  {
   "cell_type": "code",
   "execution_count": 79,
   "metadata": {
    "collapsed": false
   },
   "outputs": [
    {
     "data": {
      "text/plain": [
       "False"
      ]
     },
     "execution_count": 79,
     "metadata": {},
     "output_type": "execute_result"
    }
   ],
   "source": [
    "if \"\":\n",
    "    x = True\n",
    "else:\n",
    "    x = False\n",
    "x"
   ]
  },
  {
   "cell_type": "code",
   "execution_count": 78,
   "metadata": {
    "collapsed": false
   },
   "outputs": [
    {
     "data": {
      "text/plain": [
       "False"
      ]
     },
     "execution_count": 78,
     "metadata": {},
     "output_type": "execute_result"
    }
   ],
   "source": [
    "if []: # (an empty list)\n",
    "    x = True\n",
    "else:\n",
    "    x = False\n",
    "x"
   ]
  },
  {
   "cell_type": "code",
   "execution_count": 77,
   "metadata": {
    "collapsed": false
   },
   "outputs": [
    {
     "data": {
      "text/plain": [
       "True"
      ]
     },
     "execution_count": 77,
     "metadata": {},
     "output_type": "execute_result"
    }
   ],
   "source": [
    "if [3]:\n",
    "    x = True\n",
    "else: \n",
    "    x = False\n",
    "x"
   ]
  },
  {
   "cell_type": "code",
   "execution_count": 76,
   "metadata": {
    "collapsed": false
   },
   "outputs": [
    {
     "data": {
      "text/plain": [
       "False"
      ]
     },
     "execution_count": 76,
     "metadata": {},
     "output_type": "execute_result"
    }
   ],
   "source": [
    "if np.array([]):\n",
    "    x = True\n",
    "else: \n",
    "    x = False\n",
    "x"
   ]
  },
  {
   "cell_type": "code",
   "execution_count": 75,
   "metadata": {
    "collapsed": false
   },
   "outputs": [
    {
     "data": {
      "text/plain": [
       "True"
      ]
     },
     "execution_count": 75,
     "metadata": {},
     "output_type": "execute_result"
    }
   ],
   "source": [
    "if np.array([True]):\n",
    "    x = True\n",
    "else: \n",
    "    x = False\n",
    "x"
   ]
  },
  {
   "cell_type": "code",
   "execution_count": 74,
   "metadata": {
    "collapsed": false
   },
   "outputs": [
    {
     "data": {
      "text/plain": [
       "False"
      ]
     },
     "execution_count": 74,
     "metadata": {},
     "output_type": "execute_result"
    }
   ],
   "source": [
    "if np.array([False]):\n",
    "    x = True\n",
    "else: \n",
    "    x = False\n",
    "x"
   ]
  },
  {
   "cell_type": "code",
   "execution_count": 73,
   "metadata": {
    "collapsed": false
   },
   "outputs": [
    {
     "ename": "ValueError",
     "evalue": "The truth value of an array with more than one element is ambiguous. Use a.any() or a.all()",
     "output_type": "error",
     "traceback": [
      "\u001b[0;31m---------------------------------------------------------------------------\u001b[0m",
      "\u001b[0;31mValueError\u001b[0m                                Traceback (most recent call last)",
      "\u001b[0;32m<ipython-input-73-95e78ab4f7b9>\u001b[0m in \u001b[0;36m<module>\u001b[0;34m()\u001b[0m\n\u001b[0;32m----> 1\u001b[0;31m \u001b[0;32mif\u001b[0m \u001b[0mnp\u001b[0m\u001b[0;34m.\u001b[0m\u001b[0marray\u001b[0m\u001b[0;34m(\u001b[0m\u001b[0;34m[\u001b[0m\u001b[0;32mTrue\u001b[0m\u001b[0;34m,\u001b[0m \u001b[0;32mFalse\u001b[0m\u001b[0;34m]\u001b[0m\u001b[0;34m)\u001b[0m\u001b[0;34m:\u001b[0m\u001b[0;34m\u001b[0m\u001b[0m\n\u001b[0m\u001b[1;32m      2\u001b[0m     \u001b[0mx\u001b[0m \u001b[0;34m=\u001b[0m \u001b[0;32mTrue\u001b[0m\u001b[0;34m\u001b[0m\u001b[0m\n\u001b[1;32m      3\u001b[0m \u001b[0;32melse\u001b[0m\u001b[0;34m:\u001b[0m\u001b[0;34m\u001b[0m\u001b[0m\n\u001b[1;32m      4\u001b[0m     \u001b[0mx\u001b[0m \u001b[0;34m=\u001b[0m \u001b[0;32mFalse\u001b[0m\u001b[0;34m\u001b[0m\u001b[0m\n\u001b[1;32m      5\u001b[0m \u001b[0mx\u001b[0m\u001b[0;34m\u001b[0m\u001b[0m\n",
      "\u001b[0;31mValueError\u001b[0m: The truth value of an array with more than one element is ambiguous. Use a.any() or a.all()"
     ]
    }
   ],
   "source": [
    "if np.array([True, False]):\n",
    "    x = True\n",
    "else: \n",
    "    x = False\n",
    "x"
   ]
  }
 ],
 "metadata": {
  "kernelspec": {
   "display_name": "Python 3",
   "language": "python",
   "name": "python3"
  },
  "language_info": {
   "codemirror_mode": {
    "name": "ipython",
    "version": 3
   },
   "file_extension": ".py",
   "mimetype": "text/x-python",
   "name": "python",
   "nbconvert_exporter": "python",
   "pygments_lexer": "ipython3",
   "version": "3.4.3"
  }
 },
 "nbformat": 4,
 "nbformat_minor": 0
}
