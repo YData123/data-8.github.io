{
 "cells": [
  {
   "cell_type": "markdown",
   "metadata": {},
   "source": [
    "# Scratch Notebook\n",
    "\n",
    "This notebook was created for you to have a place where you can\n",
    "try out code. The tools that we use for this class are all available\n",
    "for you to use (`Table`, plotting, maps)."
   ]
  },
  {
   "cell_type": "code",
   "execution_count": 28,
   "metadata": {
    "collapsed": false
   },
   "outputs": [],
   "source": [
    "import numpy as np\n",
    "from datascience import *\n",
    "import matplotlib\n",
    "%matplotlib inline\n",
    "import matplotlib.pyplot as plots\n",
    "plots.style.use('fivethirtyeight')\n",
    "\n",
    "def list_datasets():\n",
    "    print('Lab datasets:')\n",
    "    print('==============')\n",
    "    !find data8assets/materials/fa16/lab -name \"*.csv\"\n",
    "\n",
    "    print()\n",
    "\n",
    "    print('Homework datasets:')\n",
    "    print('==============')\n",
    "    !find data8assets/materials/fa16/hw -name \"*.csv\"\n",
    "\n",
    "    print()\n",
    "\n",
    "    print('Lecture datasets:')\n",
    "    print('==============')\n",
    "    !find textbook/notebooks -name \"*.csv\"\n",
    "    \n",
    "    print()\n",
    "    \n",
    "    print('Project datasets:')\n",
    "    print('==============')\n",
    "    !find data8assets/materials/fa16/projects -name \"*.csv\""
   ]
  },
  {
   "cell_type": "markdown",
   "metadata": {},
   "source": [
    "More importantly, you can use the datasets that you've used in lecture, labs,\n",
    "and homeworks.\n",
    "\n",
    "If you're missing a dataset, you must first click the link for that particular\n",
    "lecture / assignment. For example, in [section 5.2][5.2] of the textbook we use\n",
    "a dataset called `nba_salaries.csv`. To get that dataset, click the Interact link\n",
    "in the textbook once. The dataset should then appear when you run the cell below.\n",
    "\n",
    "[5.2]: http://www.inferentialthinking.com/chapters/05/2/sorting-rows.html\n",
    "\n",
    "Run this cell below to see the datasets you can use."
   ]
  },
  {
   "cell_type": "code",
   "execution_count": 29,
   "metadata": {
    "collapsed": false
   },
   "outputs": [
    {
     "name": "stdout",
     "output_type": "stream",
     "text": [
      "Lab datasets:\n",
      "==============\n",
      "data8assets/materials/fa16/lab/lab03/world_population.csv\n",
      "data8assets/materials/fa16/lab/lab03/imdb.csv\n",
      "data8assets/materials/fa16/lab/lab03/farmers_markets.csv\n",
      "data8assets/materials/fa16/lab/lab02/world_population.csv\n",
      "data8assets/materials/fa16/lab/lab02/more_restaurant_bills.csv\n",
      "data8assets/materials/fa16/lab/lab02/restaurant_bills.csv\n",
      "\n",
      "Homework datasets:\n",
      "==============\n",
      "data8assets/materials/fa16/hw/hw02/inventory.csv\n",
      "data8assets/materials/fa16/hw/hw02/president_births.csv\n",
      "data8assets/materials/fa16/hw/hw02/sales.csv\n",
      "\n",
      "Lecture datasets:\n",
      "==============\n",
      "textbook/notebooks/airline_ontime.csv\n",
      "textbook/notebooks/heights.csv\n",
      "textbook/notebooks/faithful.csv\n",
      "textbook/notebooks/hodgkins.csv\n",
      "textbook/notebooks/grades_and_piazza.csv\n",
      "textbook/notebooks/us_women.csv\n",
      "textbook/notebooks/minard.csv\n",
      "textbook/notebooks/birds.csv\n",
      "textbook/notebooks/married_couples.csv\n",
      "textbook/notebooks/actors.csv\n",
      "textbook/notebooks/income_small.csv\n",
      "textbook/notebooks/baby.csv\n",
      "textbook/notebooks/nba2013.csv\n",
      "textbook/notebooks/nba_salaries.csv\n",
      "textbook/notebooks/movies_by_year.csv\n",
      "textbook/notebooks/kaiser_ethnicity_everyone.csv\n",
      "textbook/notebooks/banknote.csv\n",
      "textbook/notebooks/hybrid_reg.csv\n",
      "textbook/notebooks/everyone_raw.csv\n",
      "textbook/notebooks/breast-cancer.csv\n",
      "textbook/notebooks/children_raw.csv\n",
      "textbook/notebooks/top_movies.csv\n",
      "textbook/notebooks/little_women.csv\n",
      "textbook/notebooks/football.csv\n",
      "textbook/notebooks/trip.csv\n",
      "textbook/notebooks/kaiser_ethnicity_children.csv\n",
      "textbook/notebooks/ckd.csv\n",
      "textbook/notebooks/IV.csv\n",
      "textbook/notebooks/birth_time.csv\n",
      "textbook/notebooks/sat2014.csv\n",
      "textbook/notebooks/couples.csv\n",
      "\n",
      "Project datasets:\n",
      "==============\n",
      "find: `data8assets/materials/fa16/projects': No such file or directory\n"
     ]
    }
   ],
   "source": [
    "list_datasets()"
   ]
  },
  {
   "cell_type": "markdown",
   "metadata": {},
   "source": [
    "To use one of the above datasets, use `Table.read_table(path)` where `path` is the entire line\n",
    "for the dataset you want to investigate.\n",
    "\n",
    "For example, the `imdb` dataset from Lab 3 has the path:\n",
    "\n",
    "    data8assets/materials/fa16/lab/lab03/imdb.csv\n",
    "\n",
    "So you'd grab it with:\n",
    "\n",
    "    Table.read_table('data8assets/materials/fa16/lab/lab03/imdb.csv')"
   ]
  },
  {
   "cell_type": "code",
   "execution_count": 30,
   "metadata": {
    "collapsed": false
   },
   "outputs": [],
   "source": [
    "# Go forth and data!"
   ]
  }
 ],
 "metadata": {
  "kernelspec": {
   "display_name": "Python 3",
   "language": "python",
   "name": "python3"
  },
  "language_info": {
   "codemirror_mode": {
    "name": "ipython",
    "version": 3
   },
   "file_extension": ".py",
   "mimetype": "text/x-python",
   "name": "python",
   "nbconvert_exporter": "python",
   "pygments_lexer": "ipython3",
   "version": "3.5.2"
  }
 },
 "nbformat": 4,
 "nbformat_minor": 0
}
